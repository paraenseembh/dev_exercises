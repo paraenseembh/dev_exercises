{
 "cells": [
  {
   "cell_type": "code",
   "execution_count": null,
   "metadata": {},
   "outputs": [
    {
     "ename": "",
     "evalue": "",
     "output_type": "error",
     "traceback": [
      "\u001b[1;31mA execução de células com 'Python 3.12.3' requer o pacote ipykernel.\n",
      "\u001b[1;31mExecute o seguinte comando para instalar \"ipykernel\" no ambiente do Python. \n",
      "\u001b[1;31mComando: \"/usr/bin/python3 -m pip install ipykernel -U --user --force-reinstall\""
     ]
    }
   ],
   "source": [
    "#encapsulamento\n",
    "class ContaBancaria:\n",
    "    def __innit__(self, titular, saldo):\n",
    "        self.titular = titular\n",
    "        self.__saldo = saldo #o saldo está encapsulado, ou seja, protegido\n",
    "\n",
    "    def mostrar_saldo(self):\n",
    "        print(f\"O saldo de {self.titular} é : R$ {self.__saldo.}\") # não vai funcionar\n",
    "\n",
    "    def depositar(self,valor : float):\n",
    "        self.__saldo += valor\n",
    "        print(f\"Depósito de R${self.valor} realizado com sucesso.\") #não vai funcionar"
   ]
  }
 ],
 "metadata": {
  "kernelspec": {
   "display_name": "Python 3",
   "language": "python",
   "name": "python3"
  },
  "language_info": {
   "name": "python",
   "version": "3.12.3"
  }
 },
 "nbformat": 4,
 "nbformat_minor": 2
}
